{
 "cells": [
  {
   "cell_type": "code",
   "execution_count": 61,
   "id": "fd96573c",
   "metadata": {},
   "outputs": [],
   "source": [
    "import numpy as np\n",
    "import pandas as pd\n",
    "import matplotlib.pyplot as plt\n",
    "import seaborn as sns\n",
    "import warnings\n",
    "warnings.filterwarnings(\"ignore\")"
   ]
  },
  {
   "cell_type": "code",
   "execution_count": 62,
   "id": "46038d97",
   "metadata": {},
   "outputs": [],
   "source": [
    "df=pd.read_csv(\"city_day.csv\")"
   ]
  },
  {
   "cell_type": "code",
   "execution_count": 63,
   "id": "0434b2ad",
   "metadata": {},
   "outputs": [
    {
     "data": {
      "text/html": [
       "<div>\n",
       "<style scoped>\n",
       "    .dataframe tbody tr th:only-of-type {\n",
       "        vertical-align: middle;\n",
       "    }\n",
       "\n",
       "    .dataframe tbody tr th {\n",
       "        vertical-align: top;\n",
       "    }\n",
       "\n",
       "    .dataframe thead th {\n",
       "        text-align: right;\n",
       "    }\n",
       "</style>\n",
       "<table border=\"1\" class=\"dataframe\">\n",
       "  <thead>\n",
       "    <tr style=\"text-align: right;\">\n",
       "      <th></th>\n",
       "      <th>City</th>\n",
       "      <th>Date</th>\n",
       "      <th>PM2.5</th>\n",
       "      <th>PM10</th>\n",
       "      <th>NO</th>\n",
       "      <th>NO2</th>\n",
       "      <th>NOx</th>\n",
       "      <th>NH3</th>\n",
       "      <th>CO</th>\n",
       "      <th>SO2</th>\n",
       "      <th>O3</th>\n",
       "      <th>Benzene</th>\n",
       "      <th>Toluene</th>\n",
       "      <th>Xylene</th>\n",
       "      <th>AQI</th>\n",
       "      <th>AQI_Bucket</th>\n",
       "    </tr>\n",
       "  </thead>\n",
       "  <tbody>\n",
       "    <tr>\n",
       "      <th>0</th>\n",
       "      <td>Ahmedabad</td>\n",
       "      <td>2015-01-01</td>\n",
       "      <td>NaN</td>\n",
       "      <td>NaN</td>\n",
       "      <td>0.92</td>\n",
       "      <td>18.22</td>\n",
       "      <td>17.15</td>\n",
       "      <td>NaN</td>\n",
       "      <td>0.92</td>\n",
       "      <td>27.64</td>\n",
       "      <td>133.36</td>\n",
       "      <td>0.00</td>\n",
       "      <td>0.02</td>\n",
       "      <td>0.00</td>\n",
       "      <td>NaN</td>\n",
       "      <td>NaN</td>\n",
       "    </tr>\n",
       "    <tr>\n",
       "      <th>1</th>\n",
       "      <td>Ahmedabad</td>\n",
       "      <td>2015-01-02</td>\n",
       "      <td>NaN</td>\n",
       "      <td>NaN</td>\n",
       "      <td>0.97</td>\n",
       "      <td>15.69</td>\n",
       "      <td>16.46</td>\n",
       "      <td>NaN</td>\n",
       "      <td>0.97</td>\n",
       "      <td>24.55</td>\n",
       "      <td>34.06</td>\n",
       "      <td>3.68</td>\n",
       "      <td>5.50</td>\n",
       "      <td>3.77</td>\n",
       "      <td>NaN</td>\n",
       "      <td>NaN</td>\n",
       "    </tr>\n",
       "    <tr>\n",
       "      <th>2</th>\n",
       "      <td>Ahmedabad</td>\n",
       "      <td>2015-01-03</td>\n",
       "      <td>NaN</td>\n",
       "      <td>NaN</td>\n",
       "      <td>17.40</td>\n",
       "      <td>19.30</td>\n",
       "      <td>29.70</td>\n",
       "      <td>NaN</td>\n",
       "      <td>17.40</td>\n",
       "      <td>29.07</td>\n",
       "      <td>30.70</td>\n",
       "      <td>6.80</td>\n",
       "      <td>16.40</td>\n",
       "      <td>2.25</td>\n",
       "      <td>NaN</td>\n",
       "      <td>NaN</td>\n",
       "    </tr>\n",
       "    <tr>\n",
       "      <th>3</th>\n",
       "      <td>Ahmedabad</td>\n",
       "      <td>2015-01-04</td>\n",
       "      <td>NaN</td>\n",
       "      <td>NaN</td>\n",
       "      <td>1.70</td>\n",
       "      <td>18.48</td>\n",
       "      <td>17.97</td>\n",
       "      <td>NaN</td>\n",
       "      <td>1.70</td>\n",
       "      <td>18.59</td>\n",
       "      <td>36.08</td>\n",
       "      <td>4.43</td>\n",
       "      <td>10.14</td>\n",
       "      <td>1.00</td>\n",
       "      <td>NaN</td>\n",
       "      <td>NaN</td>\n",
       "    </tr>\n",
       "    <tr>\n",
       "      <th>4</th>\n",
       "      <td>Ahmedabad</td>\n",
       "      <td>2015-01-05</td>\n",
       "      <td>NaN</td>\n",
       "      <td>NaN</td>\n",
       "      <td>22.10</td>\n",
       "      <td>21.42</td>\n",
       "      <td>37.76</td>\n",
       "      <td>NaN</td>\n",
       "      <td>22.10</td>\n",
       "      <td>39.33</td>\n",
       "      <td>39.31</td>\n",
       "      <td>7.01</td>\n",
       "      <td>18.89</td>\n",
       "      <td>2.78</td>\n",
       "      <td>NaN</td>\n",
       "      <td>NaN</td>\n",
       "    </tr>\n",
       "  </tbody>\n",
       "</table>\n",
       "</div>"
      ],
      "text/plain": [
       "        City        Date  PM2.5  PM10     NO    NO2    NOx  NH3     CO    SO2  \\\n",
       "0  Ahmedabad  2015-01-01    NaN   NaN   0.92  18.22  17.15  NaN   0.92  27.64   \n",
       "1  Ahmedabad  2015-01-02    NaN   NaN   0.97  15.69  16.46  NaN   0.97  24.55   \n",
       "2  Ahmedabad  2015-01-03    NaN   NaN  17.40  19.30  29.70  NaN  17.40  29.07   \n",
       "3  Ahmedabad  2015-01-04    NaN   NaN   1.70  18.48  17.97  NaN   1.70  18.59   \n",
       "4  Ahmedabad  2015-01-05    NaN   NaN  22.10  21.42  37.76  NaN  22.10  39.33   \n",
       "\n",
       "       O3  Benzene  Toluene  Xylene  AQI AQI_Bucket  \n",
       "0  133.36     0.00     0.02    0.00  NaN        NaN  \n",
       "1   34.06     3.68     5.50    3.77  NaN        NaN  \n",
       "2   30.70     6.80    16.40    2.25  NaN        NaN  \n",
       "3   36.08     4.43    10.14    1.00  NaN        NaN  \n",
       "4   39.31     7.01    18.89    2.78  NaN        NaN  "
      ]
     },
     "execution_count": 63,
     "metadata": {},
     "output_type": "execute_result"
    }
   ],
   "source": [
    "df.head()"
   ]
  },
  {
   "cell_type": "code",
   "execution_count": 64,
   "id": "e580f54e",
   "metadata": {},
   "outputs": [
    {
     "name": "stdout",
     "output_type": "stream",
     "text": [
      "<class 'pandas.core.frame.DataFrame'>\n",
      "RangeIndex: 29531 entries, 0 to 29530\n",
      "Data columns (total 16 columns):\n",
      " #   Column      Non-Null Count  Dtype  \n",
      "---  ------      --------------  -----  \n",
      " 0   City        29531 non-null  object \n",
      " 1   Date        29531 non-null  object \n",
      " 2   PM2.5       24933 non-null  float64\n",
      " 3   PM10        18391 non-null  float64\n",
      " 4   NO          25949 non-null  float64\n",
      " 5   NO2         25946 non-null  float64\n",
      " 6   NOx         25346 non-null  float64\n",
      " 7   NH3         19203 non-null  float64\n",
      " 8   CO          27472 non-null  float64\n",
      " 9   SO2         25677 non-null  float64\n",
      " 10  O3          25509 non-null  float64\n",
      " 11  Benzene     23908 non-null  float64\n",
      " 12  Toluene     21490 non-null  float64\n",
      " 13  Xylene      11422 non-null  float64\n",
      " 14  AQI         24850 non-null  float64\n",
      " 15  AQI_Bucket  24850 non-null  object \n",
      "dtypes: float64(13), object(3)\n",
      "memory usage: 3.6+ MB\n"
     ]
    }
   ],
   "source": [
    "df.info()"
   ]
  },
  {
   "cell_type": "code",
   "execution_count": 65,
   "id": "d10ac66a",
   "metadata": {},
   "outputs": [
    {
     "data": {
      "text/html": [
       "<div>\n",
       "<style scoped>\n",
       "    .dataframe tbody tr th:only-of-type {\n",
       "        vertical-align: middle;\n",
       "    }\n",
       "\n",
       "    .dataframe tbody tr th {\n",
       "        vertical-align: top;\n",
       "    }\n",
       "\n",
       "    .dataframe thead th {\n",
       "        text-align: right;\n",
       "    }\n",
       "</style>\n",
       "<table border=\"1\" class=\"dataframe\">\n",
       "  <thead>\n",
       "    <tr style=\"text-align: right;\">\n",
       "      <th></th>\n",
       "      <th>PM2.5</th>\n",
       "      <th>PM10</th>\n",
       "      <th>NO</th>\n",
       "      <th>NO2</th>\n",
       "      <th>NOx</th>\n",
       "      <th>NH3</th>\n",
       "      <th>CO</th>\n",
       "      <th>SO2</th>\n",
       "      <th>O3</th>\n",
       "      <th>Benzene</th>\n",
       "      <th>Toluene</th>\n",
       "      <th>Xylene</th>\n",
       "      <th>AQI</th>\n",
       "    </tr>\n",
       "  </thead>\n",
       "  <tbody>\n",
       "    <tr>\n",
       "      <th>count</th>\n",
       "      <td>24933.000000</td>\n",
       "      <td>18391.000000</td>\n",
       "      <td>25949.000000</td>\n",
       "      <td>25946.000000</td>\n",
       "      <td>25346.000000</td>\n",
       "      <td>19203.000000</td>\n",
       "      <td>27472.000000</td>\n",
       "      <td>25677.000000</td>\n",
       "      <td>25509.000000</td>\n",
       "      <td>23908.000000</td>\n",
       "      <td>21490.000000</td>\n",
       "      <td>11422.000000</td>\n",
       "      <td>24850.000000</td>\n",
       "    </tr>\n",
       "    <tr>\n",
       "      <th>mean</th>\n",
       "      <td>67.450578</td>\n",
       "      <td>118.127103</td>\n",
       "      <td>17.574730</td>\n",
       "      <td>28.560659</td>\n",
       "      <td>32.309123</td>\n",
       "      <td>23.483476</td>\n",
       "      <td>2.248598</td>\n",
       "      <td>14.531977</td>\n",
       "      <td>34.491430</td>\n",
       "      <td>3.280840</td>\n",
       "      <td>8.700972</td>\n",
       "      <td>3.070128</td>\n",
       "      <td>166.463581</td>\n",
       "    </tr>\n",
       "    <tr>\n",
       "      <th>std</th>\n",
       "      <td>64.661449</td>\n",
       "      <td>90.605110</td>\n",
       "      <td>22.785846</td>\n",
       "      <td>24.474746</td>\n",
       "      <td>31.646011</td>\n",
       "      <td>25.684275</td>\n",
       "      <td>6.962884</td>\n",
       "      <td>18.133775</td>\n",
       "      <td>21.694928</td>\n",
       "      <td>15.811136</td>\n",
       "      <td>19.969164</td>\n",
       "      <td>6.323247</td>\n",
       "      <td>140.696585</td>\n",
       "    </tr>\n",
       "    <tr>\n",
       "      <th>min</th>\n",
       "      <td>0.040000</td>\n",
       "      <td>0.010000</td>\n",
       "      <td>0.020000</td>\n",
       "      <td>0.010000</td>\n",
       "      <td>0.000000</td>\n",
       "      <td>0.010000</td>\n",
       "      <td>0.000000</td>\n",
       "      <td>0.010000</td>\n",
       "      <td>0.010000</td>\n",
       "      <td>0.000000</td>\n",
       "      <td>0.000000</td>\n",
       "      <td>0.000000</td>\n",
       "      <td>13.000000</td>\n",
       "    </tr>\n",
       "    <tr>\n",
       "      <th>25%</th>\n",
       "      <td>28.820000</td>\n",
       "      <td>56.255000</td>\n",
       "      <td>5.630000</td>\n",
       "      <td>11.750000</td>\n",
       "      <td>12.820000</td>\n",
       "      <td>8.580000</td>\n",
       "      <td>0.510000</td>\n",
       "      <td>5.670000</td>\n",
       "      <td>18.860000</td>\n",
       "      <td>0.120000</td>\n",
       "      <td>0.600000</td>\n",
       "      <td>0.140000</td>\n",
       "      <td>81.000000</td>\n",
       "    </tr>\n",
       "    <tr>\n",
       "      <th>50%</th>\n",
       "      <td>48.570000</td>\n",
       "      <td>95.680000</td>\n",
       "      <td>9.890000</td>\n",
       "      <td>21.690000</td>\n",
       "      <td>23.520000</td>\n",
       "      <td>15.850000</td>\n",
       "      <td>0.890000</td>\n",
       "      <td>9.160000</td>\n",
       "      <td>30.840000</td>\n",
       "      <td>1.070000</td>\n",
       "      <td>2.970000</td>\n",
       "      <td>0.980000</td>\n",
       "      <td>118.000000</td>\n",
       "    </tr>\n",
       "    <tr>\n",
       "      <th>75%</th>\n",
       "      <td>80.590000</td>\n",
       "      <td>149.745000</td>\n",
       "      <td>19.950000</td>\n",
       "      <td>37.620000</td>\n",
       "      <td>40.127500</td>\n",
       "      <td>30.020000</td>\n",
       "      <td>1.450000</td>\n",
       "      <td>15.220000</td>\n",
       "      <td>45.570000</td>\n",
       "      <td>3.080000</td>\n",
       "      <td>9.150000</td>\n",
       "      <td>3.350000</td>\n",
       "      <td>208.000000</td>\n",
       "    </tr>\n",
       "    <tr>\n",
       "      <th>max</th>\n",
       "      <td>949.990000</td>\n",
       "      <td>1000.000000</td>\n",
       "      <td>390.680000</td>\n",
       "      <td>362.210000</td>\n",
       "      <td>467.630000</td>\n",
       "      <td>352.890000</td>\n",
       "      <td>175.810000</td>\n",
       "      <td>193.860000</td>\n",
       "      <td>257.730000</td>\n",
       "      <td>455.030000</td>\n",
       "      <td>454.850000</td>\n",
       "      <td>170.370000</td>\n",
       "      <td>2049.000000</td>\n",
       "    </tr>\n",
       "  </tbody>\n",
       "</table>\n",
       "</div>"
      ],
      "text/plain": [
       "              PM2.5          PM10            NO           NO2           NOx  \\\n",
       "count  24933.000000  18391.000000  25949.000000  25946.000000  25346.000000   \n",
       "mean      67.450578    118.127103     17.574730     28.560659     32.309123   \n",
       "std       64.661449     90.605110     22.785846     24.474746     31.646011   \n",
       "min        0.040000      0.010000      0.020000      0.010000      0.000000   \n",
       "25%       28.820000     56.255000      5.630000     11.750000     12.820000   \n",
       "50%       48.570000     95.680000      9.890000     21.690000     23.520000   \n",
       "75%       80.590000    149.745000     19.950000     37.620000     40.127500   \n",
       "max      949.990000   1000.000000    390.680000    362.210000    467.630000   \n",
       "\n",
       "                NH3            CO           SO2            O3       Benzene  \\\n",
       "count  19203.000000  27472.000000  25677.000000  25509.000000  23908.000000   \n",
       "mean      23.483476      2.248598     14.531977     34.491430      3.280840   \n",
       "std       25.684275      6.962884     18.133775     21.694928     15.811136   \n",
       "min        0.010000      0.000000      0.010000      0.010000      0.000000   \n",
       "25%        8.580000      0.510000      5.670000     18.860000      0.120000   \n",
       "50%       15.850000      0.890000      9.160000     30.840000      1.070000   \n",
       "75%       30.020000      1.450000     15.220000     45.570000      3.080000   \n",
       "max      352.890000    175.810000    193.860000    257.730000    455.030000   \n",
       "\n",
       "            Toluene        Xylene           AQI  \n",
       "count  21490.000000  11422.000000  24850.000000  \n",
       "mean       8.700972      3.070128    166.463581  \n",
       "std       19.969164      6.323247    140.696585  \n",
       "min        0.000000      0.000000     13.000000  \n",
       "25%        0.600000      0.140000     81.000000  \n",
       "50%        2.970000      0.980000    118.000000  \n",
       "75%        9.150000      3.350000    208.000000  \n",
       "max      454.850000    170.370000   2049.000000  "
      ]
     },
     "execution_count": 65,
     "metadata": {},
     "output_type": "execute_result"
    }
   ],
   "source": [
    "df.describe()"
   ]
  },
  {
   "cell_type": "code",
   "execution_count": 66,
   "id": "9d3734f0",
   "metadata": {},
   "outputs": [
    {
     "data": {
      "text/plain": [
       "City              0\n",
       "Date              0\n",
       "PM2.5          4598\n",
       "PM10          11140\n",
       "NO             3582\n",
       "NO2            3585\n",
       "NOx            4185\n",
       "NH3           10328\n",
       "CO             2059\n",
       "SO2            3854\n",
       "O3             4022\n",
       "Benzene        5623\n",
       "Toluene        8041\n",
       "Xylene        18109\n",
       "AQI            4681\n",
       "AQI_Bucket     4681\n",
       "dtype: int64"
      ]
     },
     "execution_count": 66,
     "metadata": {},
     "output_type": "execute_result"
    }
   ],
   "source": [
    "df.isna().sum()"
   ]
  },
  {
   "cell_type": "code",
   "execution_count": 67,
   "id": "cad17439",
   "metadata": {},
   "outputs": [
    {
     "data": {
      "text/plain": [
       "102.0     223\n",
       "100.0     222\n",
       "70.0      208\n",
       "106.0     208\n",
       "78.0      198\n",
       "         ... \n",
       "1044.0      1\n",
       "679.0       1\n",
       "1222.0      1\n",
       "1459.0      1\n",
       "13.0        1\n",
       "Name: AQI, Length: 829, dtype: int64"
      ]
     },
     "execution_count": 67,
     "metadata": {},
     "output_type": "execute_result"
    }
   ],
   "source": [
    "df[\"AQI\"].value_counts()"
   ]
  },
  {
   "cell_type": "code",
   "execution_count": 68,
   "id": "fbe2abaa",
   "metadata": {},
   "outputs": [
    {
     "data": {
      "text/plain": [
       "<seaborn.axisgrid.PairGrid at 0x266d2ad60a0>"
      ]
     },
     "execution_count": 68,
     "metadata": {},
     "output_type": "execute_result"
    }
   ],
   "source": [
    "sns.pairplot(df)"
   ]
  },
  {
   "cell_type": "code",
   "execution_count": 69,
   "id": "7ddc52ab",
   "metadata": {},
   "outputs": [
    {
     "data": {
      "text/plain": [
       "<AxesSubplot:>"
      ]
     },
     "execution_count": 69,
     "metadata": {},
     "output_type": "execute_result"
    }
   ],
   "source": [
    "plt.figure(figsize=(8,8))\n",
    "sns.heatmap(df.corr(),annot=True)"
   ]
  },
  {
   "cell_type": "markdown",
   "id": "71acd859",
   "metadata": {},
   "source": [
    "# EDA Handling Missing Values"
   ]
  },
  {
   "cell_type": "code",
   "execution_count": 70,
   "id": "f4eeccaa",
   "metadata": {},
   "outputs": [],
   "source": [
    "pmean=df[\"PM2.5\"].mean()\n",
    "df[\"PM2.5\"].fillna(pmean,inplace=True)"
   ]
  },
  {
   "cell_type": "code",
   "execution_count": 71,
   "id": "6cb4a8ba",
   "metadata": {},
   "outputs": [],
   "source": [
    "pmmean=df[\"PM10\"].mean()\n",
    "df[\"PM10\"].fillna(pmmean,inplace=True)"
   ]
  },
  {
   "cell_type": "code",
   "execution_count": 72,
   "id": "deb946e2",
   "metadata": {},
   "outputs": [],
   "source": [
    "nmean=df[\"NO\"].mean()\n",
    "df[\"NO\"].fillna(nmean,inplace=True)"
   ]
  },
  {
   "cell_type": "code",
   "execution_count": 73,
   "id": "8e1d426f",
   "metadata": {},
   "outputs": [],
   "source": [
    "nomean=df[\"NO2\"].mean()\n",
    "df[\"NO2\"].fillna(nomean,inplace=True)"
   ]
  },
  {
   "cell_type": "code",
   "execution_count": 74,
   "id": "2453c4c2",
   "metadata": {},
   "outputs": [],
   "source": [
    "noxmean=df[\"NOx\"].mean()\n",
    "df[\"NOx\"].fillna(noxmean,inplace=True)"
   ]
  },
  {
   "cell_type": "code",
   "execution_count": 75,
   "id": "46ba13b3",
   "metadata": {},
   "outputs": [],
   "source": [
    "nhmean=df[\"NH3\"].mean()\n",
    "df[\"NH3\"].fillna(nhmean,inplace=True)"
   ]
  },
  {
   "cell_type": "code",
   "execution_count": 76,
   "id": "fe8fd1f9",
   "metadata": {},
   "outputs": [],
   "source": [
    "cmean=df[\"CO\"].mean()\n",
    "df[\"CO\"].fillna(cmean,inplace=True)"
   ]
  },
  {
   "cell_type": "code",
   "execution_count": 77,
   "id": "0844556d",
   "metadata": {},
   "outputs": [],
   "source": [
    "smean=df[\"SO2\"].mean()\n",
    "df[\"SO2\"].fillna(smean,inplace=True)"
   ]
  },
  {
   "cell_type": "code",
   "execution_count": 78,
   "id": "d30aacb1",
   "metadata": {},
   "outputs": [],
   "source": [
    "omean=df[\"O3\"].mean()\n",
    "df[\"O3\"].fillna(omean, inplace=True)"
   ]
  },
  {
   "cell_type": "code",
   "execution_count": 79,
   "id": "9b2501b1",
   "metadata": {},
   "outputs": [],
   "source": [
    "bmean=df[\"Benzene\"].mean()\n",
    "df[\"Benzene\"].fillna(bmean,inplace=True)"
   ]
  },
  {
   "cell_type": "code",
   "execution_count": 80,
   "id": "dcd6e0dd",
   "metadata": {},
   "outputs": [],
   "source": [
    "tmean=df[\"Toluene\"].mean()\n",
    "df[\"Toluene\"].fillna(tmean,inplace=True)"
   ]
  },
  {
   "cell_type": "code",
   "execution_count": 81,
   "id": "ab118c55",
   "metadata": {},
   "outputs": [],
   "source": [
    "xmean=df[\"Xylene\"].mean()\n",
    "df[\"Xylene\"].fillna(xmean,inplace=True)"
   ]
  },
  {
   "cell_type": "code",
   "execution_count": 82,
   "id": "1de7b58f",
   "metadata": {},
   "outputs": [],
   "source": [
    "amean=df[\"AQI\"].mean()\n",
    "df[\"AQI\"].fillna(amean,inplace=True)"
   ]
  },
  {
   "cell_type": "code",
   "execution_count": 83,
   "id": "3626b3a6",
   "metadata": {},
   "outputs": [],
   "source": [
    "df=df.drop('AQI_Bucket',axis=1)"
   ]
  },
  {
   "cell_type": "code",
   "execution_count": 84,
   "id": "134e6523",
   "metadata": {},
   "outputs": [
    {
     "data": {
      "text/plain": [
       "City       0\n",
       "Date       0\n",
       "PM2.5      0\n",
       "PM10       0\n",
       "NO         0\n",
       "NO2        0\n",
       "NOx        0\n",
       "NH3        0\n",
       "CO         0\n",
       "SO2        0\n",
       "O3         0\n",
       "Benzene    0\n",
       "Toluene    0\n",
       "Xylene     0\n",
       "AQI        0\n",
       "dtype: int64"
      ]
     },
     "execution_count": 84,
     "metadata": {},
     "output_type": "execute_result"
    }
   ],
   "source": [
    "df.isna().sum()"
   ]
  },
  {
   "cell_type": "code",
   "execution_count": null,
   "id": "2c597a24",
   "metadata": {},
   "outputs": [],
   "source": [
    "# Dividing the Data into X and Y"
   ]
  },
  {
   "cell_type": "code",
   "execution_count": 85,
   "id": "df043ab8",
   "metadata": {},
   "outputs": [],
   "source": [
    "x=df.iloc[:,2:13].values\n",
    "y=df.iloc[:,-1].values"
   ]
  },
  {
   "cell_type": "code",
   "execution_count": 86,
   "id": "5d879935",
   "metadata": {},
   "outputs": [
    {
     "data": {
      "text/plain": [
       "array([[6.74505779e+01, 1.18127103e+02, 9.20000000e-01, ...,\n",
       "        1.33360000e+02, 0.00000000e+00, 2.00000000e-02],\n",
       "       [6.74505779e+01, 1.18127103e+02, 9.70000000e-01, ...,\n",
       "        3.40600000e+01, 3.68000000e+00, 5.50000000e+00],\n",
       "       [6.74505779e+01, 1.18127103e+02, 1.74000000e+01, ...,\n",
       "        3.07000000e+01, 6.80000000e+00, 1.64000000e+01],\n",
       "       ...,\n",
       "       [2.29100000e+01, 6.57300000e+01, 3.45000000e+00, ...,\n",
       "        3.09600000e+01, 1.00000000e-02, 1.00000000e-02],\n",
       "       [1.66400000e+01, 4.99700000e+01, 4.05000000e+00, ...,\n",
       "        2.83000000e+01, 0.00000000e+00, 0.00000000e+00],\n",
       "       [1.50000000e+01, 6.60000000e+01, 4.00000000e-01, ...,\n",
       "        1.70500000e+01, 3.28084030e+00, 8.70097208e+00]])"
      ]
     },
     "execution_count": 86,
     "metadata": {},
     "output_type": "execute_result"
    }
   ],
   "source": [
    "x"
   ]
  },
  {
   "cell_type": "code",
   "execution_count": 87,
   "id": "99e1dc5d",
   "metadata": {},
   "outputs": [
    {
     "data": {
      "text/plain": [
       "array([166.46358149, 166.46358149, 166.46358149, ...,  68.        ,\n",
       "        54.        ,  50.        ])"
      ]
     },
     "execution_count": 87,
     "metadata": {},
     "output_type": "execute_result"
    }
   ],
   "source": [
    "y"
   ]
  },
  {
   "cell_type": "code",
   "execution_count": 92,
   "id": "4ec6b066",
   "metadata": {},
   "outputs": [],
   "source": [
    "from sklearn.model_selection import train_test_split"
   ]
  },
  {
   "cell_type": "code",
   "execution_count": 93,
   "id": "78393fd8",
   "metadata": {},
   "outputs": [],
   "source": [
    "xtrain,xtest,ytrain,ytest= train_test_split(x,y,test_size=0.4,random_state=0)"
   ]
  },
  {
   "cell_type": "code",
   "execution_count": 94,
   "id": "c970a391",
   "metadata": {},
   "outputs": [],
   "source": [
    "from sklearn.linear_model import LinearRegression"
   ]
  },
  {
   "cell_type": "code",
   "execution_count": 95,
   "id": "39fc114a",
   "metadata": {},
   "outputs": [],
   "source": [
    "linreg=LinearRegression()"
   ]
  },
  {
   "cell_type": "code",
   "execution_count": 96,
   "id": "7f0b276d",
   "metadata": {},
   "outputs": [],
   "source": [
    "linreg.fit(xtrain,ytrain)\n",
    "ypred=linreg.predict(xtest)"
   ]
  },
  {
   "cell_type": "markdown",
   "id": "2a0980f2",
   "metadata": {},
   "source": [
    "# Model Evaluation"
   ]
  },
  {
   "cell_type": "code",
   "execution_count": 97,
   "id": "c58c00ce",
   "metadata": {},
   "outputs": [],
   "source": [
    "x=df.iloc[:,2:13]\n",
    "y=df.iloc[:,-1]"
   ]
  },
  {
   "cell_type": "code",
   "execution_count": 98,
   "id": "866b59ff",
   "metadata": {},
   "outputs": [
    {
     "data": {
      "text/plain": [
       "16.517026289794046"
      ]
     },
     "execution_count": 98,
     "metadata": {},
     "output_type": "execute_result"
    }
   ],
   "source": [
    "linreg.intercept_"
   ]
  },
  {
   "cell_type": "code",
   "execution_count": 99,
   "id": "383acb9b",
   "metadata": {},
   "outputs": [
    {
     "data": {
      "text/plain": [
       "array([ 0.95203776,  0.27416166, -0.03176971,  0.40831046,  0.13346175,\n",
       "       -0.05303887,  9.94101781,  0.6259331 ,  0.18604332, -0.31302205,\n",
       "        0.24178675])"
      ]
     },
     "execution_count": 99,
     "metadata": {},
     "output_type": "execute_result"
    }
   ],
   "source": [
    "linreg.coef_"
   ]
  },
  {
   "cell_type": "code",
   "execution_count": 100,
   "id": "27e4b448",
   "metadata": {},
   "outputs": [
    {
     "data": {
      "text/html": [
       "<div>\n",
       "<style scoped>\n",
       "    .dataframe tbody tr th:only-of-type {\n",
       "        vertical-align: middle;\n",
       "    }\n",
       "\n",
       "    .dataframe tbody tr th {\n",
       "        vertical-align: top;\n",
       "    }\n",
       "\n",
       "    .dataframe thead th {\n",
       "        text-align: right;\n",
       "    }\n",
       "</style>\n",
       "<table border=\"1\" class=\"dataframe\">\n",
       "  <thead>\n",
       "    <tr style=\"text-align: right;\">\n",
       "      <th></th>\n",
       "      <th>Coefficient</th>\n",
       "    </tr>\n",
       "  </thead>\n",
       "  <tbody>\n",
       "    <tr>\n",
       "      <th>PM2.5</th>\n",
       "      <td>0.952038</td>\n",
       "    </tr>\n",
       "    <tr>\n",
       "      <th>PM10</th>\n",
       "      <td>0.274162</td>\n",
       "    </tr>\n",
       "    <tr>\n",
       "      <th>NO</th>\n",
       "      <td>-0.031770</td>\n",
       "    </tr>\n",
       "    <tr>\n",
       "      <th>NO2</th>\n",
       "      <td>0.408310</td>\n",
       "    </tr>\n",
       "    <tr>\n",
       "      <th>NOx</th>\n",
       "      <td>0.133462</td>\n",
       "    </tr>\n",
       "    <tr>\n",
       "      <th>NH3</th>\n",
       "      <td>-0.053039</td>\n",
       "    </tr>\n",
       "    <tr>\n",
       "      <th>CO</th>\n",
       "      <td>9.941018</td>\n",
       "    </tr>\n",
       "    <tr>\n",
       "      <th>SO2</th>\n",
       "      <td>0.625933</td>\n",
       "    </tr>\n",
       "    <tr>\n",
       "      <th>O3</th>\n",
       "      <td>0.186043</td>\n",
       "    </tr>\n",
       "    <tr>\n",
       "      <th>Benzene</th>\n",
       "      <td>-0.313022</td>\n",
       "    </tr>\n",
       "    <tr>\n",
       "      <th>Toluene</th>\n",
       "      <td>0.241787</td>\n",
       "    </tr>\n",
       "  </tbody>\n",
       "</table>\n",
       "</div>"
      ],
      "text/plain": [
       "         Coefficient\n",
       "PM2.5       0.952038\n",
       "PM10        0.274162\n",
       "NO         -0.031770\n",
       "NO2         0.408310\n",
       "NOx         0.133462\n",
       "NH3        -0.053039\n",
       "CO          9.941018\n",
       "SO2         0.625933\n",
       "O3          0.186043\n",
       "Benzene    -0.313022\n",
       "Toluene     0.241787"
      ]
     },
     "execution_count": 100,
     "metadata": {},
     "output_type": "execute_result"
    }
   ],
   "source": [
    "coef_df=pd.DataFrame(linreg.coef_,x.columns,columns=[\"Coefficient\"])\n",
    "coef_df"
   ]
  },
  {
   "cell_type": "code",
   "execution_count": 108,
   "id": "75ceb67f",
   "metadata": {},
   "outputs": [
    {
     "data": {
      "text/plain": [
       "<matplotlib.collections.PathCollection at 0x266e55515b0>"
      ]
     },
     "execution_count": 108,
     "metadata": {},
     "output_type": "execute_result"
    }
   ],
   "source": [
    "plt.scatter(ytest,ypred)"
   ]
  },
  {
   "cell_type": "code",
   "execution_count": 109,
   "id": "399d4ec7",
   "metadata": {},
   "outputs": [
    {
     "data": {
      "text/plain": [
       "<AxesSubplot:ylabel='Density'>"
      ]
     },
     "execution_count": 109,
     "metadata": {},
     "output_type": "execute_result"
    }
   ],
   "source": [
    "sns.distplot((ytest-ypred),bins=50)"
   ]
  },
  {
   "cell_type": "code",
   "execution_count": 103,
   "id": "b425badb",
   "metadata": {},
   "outputs": [],
   "source": [
    "from sklearn.metrics import mean_absolute_error as mae, mean_squared_error as mse,r2_score"
   ]
  },
  {
   "cell_type": "code",
   "execution_count": 104,
   "id": "e9da2e5b",
   "metadata": {},
   "outputs": [
    {
     "name": "stdout",
     "output_type": "stream",
     "text": [
      "MAE:-32.17291853891282\n"
     ]
    }
   ],
   "source": [
    "print(f\"MAE:-{mae(ytest,ypred)}\")"
   ]
  },
  {
   "cell_type": "code",
   "execution_count": 105,
   "id": "d35f476a",
   "metadata": {},
   "outputs": [
    {
     "name": "stdout",
     "output_type": "stream",
     "text": [
      "MSE:-3313.354484373637\n"
     ]
    }
   ],
   "source": [
    "print(f\"MSE:-{mse(ytest,ypred)}\")"
   ]
  },
  {
   "cell_type": "code",
   "execution_count": 106,
   "id": "90643e5f",
   "metadata": {},
   "outputs": [
    {
     "name": "stdout",
     "output_type": "stream",
     "text": [
      "RMSE:-57.56174497332093\n"
     ]
    }
   ],
   "source": [
    "print(f\"RMSE:-{np.sqrt(mse(ytest,ypred))}\")"
   ]
  },
  {
   "cell_type": "code",
   "execution_count": 107,
   "id": "91c917d8",
   "metadata": {},
   "outputs": [
    {
     "name": "stdout",
     "output_type": "stream",
     "text": [
      "R-squared:-0.7982536798114571\n"
     ]
    }
   ],
   "source": [
    "print(f\"R-squared:-{r2_score(ytest,ypred)}\")"
   ]
  },
  {
   "cell_type": "code",
   "execution_count": null,
   "id": "62c9bfd2",
   "metadata": {},
   "outputs": [],
   "source": []
  },
  {
   "cell_type": "code",
   "execution_count": null,
   "id": "729395b7",
   "metadata": {},
   "outputs": [],
   "source": []
  },
  {
   "cell_type": "code",
   "execution_count": null,
   "id": "ddf3240f",
   "metadata": {},
   "outputs": [],
   "source": []
  },
  {
   "cell_type": "code",
   "execution_count": null,
   "id": "477e5136",
   "metadata": {},
   "outputs": [],
   "source": []
  }
 ],
 "metadata": {
  "kernelspec": {
   "display_name": "Python 3 (ipykernel)",
   "language": "python",
   "name": "python3"
  },
  "language_info": {
   "codemirror_mode": {
    "name": "ipython",
    "version": 3
   },
   "file_extension": ".py",
   "mimetype": "text/x-python",
   "name": "python",
   "nbconvert_exporter": "python",
   "pygments_lexer": "ipython3",
   "version": "3.9.13"
  }
 },
 "nbformat": 4,
 "nbformat_minor": 5
}
